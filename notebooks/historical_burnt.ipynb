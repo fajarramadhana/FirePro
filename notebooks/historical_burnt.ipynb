{
 "cells": [
  {
   "cell_type": "code",
   "execution_count": 28,
   "id": "a68d4d1d",
   "metadata": {},
   "outputs": [
    {
     "data": {
      "text/html": [
       "\n",
       "            <style>\n",
       "                .geemap-dark {\n",
       "                    --jp-widgets-color: white;\n",
       "                    --jp-widgets-label-color: white;\n",
       "                    --jp-ui-font-color1: white;\n",
       "                    --jp-layout-color2: #454545;\n",
       "                    background-color: #383838;\n",
       "                }\n",
       "\n",
       "                .geemap-dark .jupyter-button {\n",
       "                    --jp-layout-color3: #383838;\n",
       "                }\n",
       "\n",
       "                .geemap-colab {\n",
       "                    background-color: var(--colab-primary-surface-color, white);\n",
       "                }\n",
       "\n",
       "                .geemap-colab .jupyter-button {\n",
       "                    --jp-layout-color3: var(--colab-primary-surface-color, white);\n",
       "                }\n",
       "            </style>\n",
       "            "
      ],
      "text/plain": [
       "<IPython.core.display.HTML object>"
      ]
     },
     "metadata": {},
     "output_type": "display_data"
    }
   ],
   "source": [
    "#import libraries\n",
    "import geopandas as gpd\n",
    "import ee\n",
    "import geemap\n",
    "import numpy as np\n",
    "import matplotlib\n",
    "import pandas as pd\n",
    "import matplotlib.pyplot as plt\n",
    "import ee\n"
   ]
  },
  {
   "cell_type": "code",
   "execution_count": 33,
   "id": "3fb56383",
   "metadata": {},
   "outputs": [
    {
     "data": {
      "text/html": [
       "\n",
       "            <style>\n",
       "                .geemap-dark {\n",
       "                    --jp-widgets-color: white;\n",
       "                    --jp-widgets-label-color: white;\n",
       "                    --jp-ui-font-color1: white;\n",
       "                    --jp-layout-color2: #454545;\n",
       "                    background-color: #383838;\n",
       "                }\n",
       "\n",
       "                .geemap-dark .jupyter-button {\n",
       "                    --jp-layout-color3: #383838;\n",
       "                }\n",
       "\n",
       "                .geemap-colab {\n",
       "                    background-color: var(--colab-primary-surface-color, white);\n",
       "                }\n",
       "\n",
       "                .geemap-colab .jupyter-button {\n",
       "                    --jp-layout-color3: var(--colab-primary-surface-color, white);\n",
       "                }\n",
       "            </style>\n",
       "            "
      ],
      "text/plain": [
       "<IPython.core.display.HTML object>"
      ]
     },
     "metadata": {},
     "output_type": "display_data"
    }
   ],
   "source": [
    "# Intialize Earth Engine\n",
    "ee.Authenticate()\n",
    "ee.Initialize(project=\"ee-fajarramadhana505\")"
   ]
  },
  {
   "cell_type": "code",
   "execution_count": 59,
   "id": "94c27bff",
   "metadata": {},
   "outputs": [
    {
     "data": {
      "text/html": [
       "\n",
       "            <style>\n",
       "                .geemap-dark {\n",
       "                    --jp-widgets-color: white;\n",
       "                    --jp-widgets-label-color: white;\n",
       "                    --jp-ui-font-color1: white;\n",
       "                    --jp-layout-color2: #454545;\n",
       "                    background-color: #383838;\n",
       "                }\n",
       "\n",
       "                .geemap-dark .jupyter-button {\n",
       "                    --jp-layout-color3: #383838;\n",
       "                }\n",
       "\n",
       "                .geemap-colab {\n",
       "                    background-color: var(--colab-primary-surface-color, white);\n",
       "                }\n",
       "\n",
       "                .geemap-colab .jupyter-button {\n",
       "                    --jp-layout-color3: var(--colab-primary-surface-color, white);\n",
       "                }\n",
       "            </style>\n",
       "            "
      ],
      "text/plain": [
       "<IPython.core.display.HTML object>"
      ]
     },
     "metadata": {},
     "output_type": "display_data"
    },
    {
     "data": {
      "application/vnd.jupyter.widget-view+json": {
       "model_id": "f0d6e16ef0ca42f18dbef4370f32feca",
       "version_major": 2,
       "version_minor": 0
      },
      "text/plain": [
       "Map(center=[4.529054083122191, 114.76102305285698], controls=(WidgetControl(options=['position', 'transparent_…"
      ]
     },
     "execution_count": 59,
     "metadata": {},
     "output_type": "execute_result"
    }
   ],
   "source": [
    "# -----------------------------------------------------------------------------\n",
    "# CELL 1: Area of Interest and Time Range Setup\n",
    "# -----------------------------------------------------------------------------\n",
    "# The JavaScript 'Brunei' object is not a standard Earth Engine geometry.\n",
    "# We'll create a placeholder for a sample region. You can replace this with\n",
    "# the actual geometry you intend to use. Here, we are creating a rectangle\n",
    "# around the approximate location of Brunei.\n",
    "Brunei = ee.FeatureCollection('users/fajarramadhana505/Brunei/admin_country_buff_1km')\n",
    "\n",
    "# Optional: if asset contains multiple features and you want a single geometry\n",
    "brunei_geometry = Brunei.geometry()\n",
    "\n",
    "# Example: buffer the AOI by 10 km\n",
    "geom = brunei_geometry.buffer(100)\n",
    "\n",
    "# Define the start and end years for the 10-year period\n",
    "start_year_range = 2015  # The first year of the dNBR calculation\n",
    "end_year_range = 2024    # The last year for the second image in the pair\n",
    "\n",
    "Map = geemap.Map()\n",
    "Map.addLayer(Brunei, {}, 'Brunei AOI')\n",
    "# Center the map on your area of interest\n",
    "Map.centerObject(brunei_geometry, 8)\n",
    "Map"
   ]
  },
  {
   "cell_type": "code",
   "execution_count": 37,
   "id": "0ec1c3b8",
   "metadata": {},
   "outputs": [
    {
     "data": {
      "text/html": [
       "\n",
       "            <style>\n",
       "                .geemap-dark {\n",
       "                    --jp-widgets-color: white;\n",
       "                    --jp-widgets-label-color: white;\n",
       "                    --jp-ui-font-color1: white;\n",
       "                    --jp-layout-color2: #454545;\n",
       "                    background-color: #383838;\n",
       "                }\n",
       "\n",
       "                .geemap-dark .jupyter-button {\n",
       "                    --jp-layout-color3: #383838;\n",
       "                }\n",
       "\n",
       "                .geemap-colab {\n",
       "                    background-color: var(--colab-primary-surface-color, white);\n",
       "                }\n",
       "\n",
       "                .geemap-colab .jupyter-button {\n",
       "                    --jp-layout-color3: var(--colab-primary-surface-color, white);\n",
       "                }\n",
       "            </style>\n",
       "            "
      ],
      "text/plain": [
       "<IPython.core.display.HTML object>"
      ]
     },
     "metadata": {},
     "output_type": "display_data"
    }
   ],
   "source": [
    "# -----------------------------------------------------------------------------\n",
    "# CELL 2: Data Collection and Cloud Masking Function\n",
    "# -----------------------------------------------------------------------------\n",
    "# Input Landsat collections\n",
    "l9sr = ee.ImageCollection('LANDSAT/LC09/C02/T1_L2')\n",
    "l8sr = ee.ImageCollection('LANDSAT/LC08/C02/T1_L2')\n",
    "l5sr = ee.ImageCollection('LANDSAT/LT05/C02/T1_L2')\n",
    "lsr = ee.ImageCollection(l9sr.merge(l8sr).merge(l5sr))\n",
    "\n",
    "# Function to cloud mask from the Fmask band of Landsat SR data\n",
    "def maskLsr(img):\n",
    "    qa = img.select('QA_PIXEL')\n",
    "    dilated = 1 << 1\n",
    "    cirrus = 1 << 2\n",
    "    cloud = 1 << 3\n",
    "    shadow = 1 << 4\n",
    "    \n",
    "    mask = qa.bitwiseAnd(dilated).eq(0) \\\n",
    "        .And(qa.bitwiseAnd(cirrus).eq(0)) \\\n",
    "        .And(qa.bitwiseAnd(cloud).eq(0)) \\\n",
    "        .And(qa.bitwiseAnd(shadow).eq(0))\n",
    "        \n",
    "    return img.updateMask(mask)"
   ]
  },
  {
   "cell_type": "code",
   "execution_count": 55,
   "id": "1074e2eb",
   "metadata": {},
   "outputs": [
    {
     "data": {
      "text/html": [
       "\n",
       "            <style>\n",
       "                .geemap-dark {\n",
       "                    --jp-widgets-color: white;\n",
       "                    --jp-widgets-label-color: white;\n",
       "                    --jp-ui-font-color1: white;\n",
       "                    --jp-layout-color2: #454545;\n",
       "                    background-color: #383838;\n",
       "                }\n",
       "\n",
       "                .geemap-dark .jupyter-button {\n",
       "                    --jp-layout-color3: #383838;\n",
       "                }\n",
       "\n",
       "                .geemap-colab {\n",
       "                    background-color: var(--colab-primary-surface-color, white);\n",
       "                }\n",
       "\n",
       "                .geemap-colab .jupyter-button {\n",
       "                    --jp-layout-color3: var(--colab-primary-surface-color, white);\n",
       "                }\n",
       "            </style>\n",
       "            "
      ],
      "text/plain": [
       "<IPython.core.display.HTML object>"
      ]
     },
     "metadata": {},
     "output_type": "display_data"
    },
    {
     "name": "stdout",
     "output_type": "stream",
     "text": [
      "Processing dNBR for years 2015 and 2016...\n",
      "Processing dNBR for years 2016 and 2017...\n",
      "Processing dNBR for years 2017 and 2018...\n",
      "Processing dNBR for years 2018 and 2019...\n",
      "Processing dNBR for years 2019 and 2020...\n",
      "Processing dNBR for years 2020 and 2021...\n",
      "Processing dNBR for years 2021 and 2022...\n",
      "Processing dNBR for years 2022 and 2023...\n",
      "Processing dNBR for years 2023 and 2024...\n"
     ]
    }
   ],
   "source": [
    "# -----------------------------------------------------------------------------\n",
    "# CELL 3: Automated dNBR Calculation and Export Loop\n",
    "# -----------------------------------------------------------------------------\n",
    "# Loop through the years to calculate dNBR for each pair of consecutive years\n",
    "for year in range(start_year_range, end_year_range):\n",
    "    print(f\"Processing dNBR for years {year} and {year + 1}...\")\n",
    "\n",
    "    # Calculate composite for the first year (e.g., 2015)\n",
    "    startDate1 = ee.Date.fromYMD(year, 1, 1)\n",
    "    endDate1 = ee.Date.fromYMD(year + 1, 1, 1)\n",
    "    composite1 = lsr.filterDate(startDate1, endDate1) \\\n",
    "                    .map(maskLsr) \\\n",
    "                    .median() \\\n",
    "                    .multiply(0.0000275) \\\n",
    "                    .add(-0.2)\n",
    "    \n",
    "    # Calculate composite for the second year (e.g., 2016)\n",
    "    startDate2 = ee.Date.fromYMD(year + 1, 1, 1)\n",
    "    endDate2 = ee.Date.fromYMD(year + 2, 1, 1)\n",
    "    composite2 = lsr.filterDate(startDate2, endDate2) \\\n",
    "                    .map(maskLsr) \\\n",
    "                    .median() \\\n",
    "                    .multiply(0.0000275) \\\n",
    "                    .add(-0.2)\n",
    "    \n",
    "    # Calculate pre-fire and post-fire NBR for the year pair\n",
    "    BurntIndices1 = composite1.expression(\n",
    "        \"(NIR - SWIR2) / (NIR + SWIR2)\",\n",
    "        {\n",
    "            'SWIR2': composite1.select(\"SR_B7\"),\n",
    "            'NIR': composite1.select(\"SR_B5\"),\n",
    "        })\n",
    "\n",
    "    BurntIndices2 = composite2.expression(\n",
    "        \"(NIR - SWIR2) / (NIR + SWIR2)\",\n",
    "        {\n",
    "            'SWIR2': composite2.select(\"SR_B7\"),\n",
    "            'NIR': composite2.select(\"SR_B5\"),\n",
    "        })\n",
    "\n",
    "    # Calculate dNBR\n",
    "    dNBR_unscaled = BurntIndices1.subtract(BurntIndices2)\n",
    "    dNBR_scaled = dNBR_unscaled.multiply(1000).clip(brunei_geometry)"
   ]
  },
  {
   "cell_type": "code",
   "execution_count": 57,
   "id": "099db6db",
   "metadata": {},
   "outputs": [
    {
     "data": {
      "text/html": [
       "\n",
       "            <style>\n",
       "                .geemap-dark {\n",
       "                    --jp-widgets-color: white;\n",
       "                    --jp-widgets-label-color: white;\n",
       "                    --jp-ui-font-color1: white;\n",
       "                    --jp-layout-color2: #454545;\n",
       "                    background-color: #383838;\n",
       "                }\n",
       "\n",
       "                .geemap-dark .jupyter-button {\n",
       "                    --jp-layout-color3: #383838;\n",
       "                }\n",
       "\n",
       "                .geemap-colab {\n",
       "                    background-color: var(--colab-primary-surface-color, white);\n",
       "                }\n",
       "\n",
       "                .geemap-colab .jupyter-button {\n",
       "                    --jp-layout-color3: var(--colab-primary-surface-color, white);\n",
       "                }\n",
       "            </style>\n",
       "            "
      ],
      "text/plain": [
       "<IPython.core.display.HTML object>"
      ]
     },
     "metadata": {},
     "output_type": "display_data"
    },
    {
     "data": {
      "application/vnd.jupyter.widget-view+json": {
       "model_id": "4e681e0f93874e4692ea6cd206791e3e",
       "version_major": 2,
       "version_minor": 0
      },
      "text/plain": [
       "Map(bottom=64264.0, center=[4.529054083122191, 114.76102305285698], controls=(WidgetControl(options=['position…"
      ]
     },
     "execution_count": 57,
     "metadata": {},
     "output_type": "execute_result"
    }
   ],
   "source": [
    "# -----------------------------------------------------------------------------\n",
    "# CELL 4: Visualize a Single Year's Results (Placed outside the loop for clarity)\n",
    "# -----------------------------------------------------------------------------\n",
    "# You should run the loop once and then use the last calculated dNBR_scaled variable\n",
    "# to add it to the map.\n",
    "\n",
    "# Visualization parameters for the composites\n",
    "composite_vis = {\n",
    "    'bands': ['SR_B5', 'SR_B6', 'SR_B7'],\n",
    "    'min': 0,\n",
    "    'max': [0.5, 0.3, 0.2],\n",
    "}\n",
    "\n",
    "# Visualization parameters for dNBR\n",
    "dNBR_vis = {\n",
    "    'min': -1000,\n",
    "    'max': 1000,\n",
    "    'palette': ['green', 'yellow', 'red'] # A simple palette for dNBR\n",
    "}\n",
    "\n",
    "# SLD style for classified dNBR\n",
    "sld_intervals = \"\"\"\n",
    "<RasterSymbolizer>\n",
    "  <ColorMap type=\"intervals\" extended=\"false\">\n",
    "    <ColorMapEntry color=\"#ffffff\" quantity=\"-500\" label=\"-500\"/>\n",
    "    <ColorMapEntry color=\"#7a8737\" quantity=\"-250\" label=\"-250\"/>\n",
    "    <ColorMapEntry color=\"#acbe4d\" quantity=\"-100\" label=\"-100\"/>\n",
    "    <ColorMapEntry color=\"#0ae042\" quantity=\"100\" label=\"100\"/>\n",
    "    <ColorMapEntry color=\"#fff70b\" quantity=\"270\" label=\"270\"/>\n",
    "    <ColorMapEntry color=\"#ffaf38\" quantity=\"440\" label=\"440\"/>\n",
    "    <ColorMapEntry color=\"#ff641b\" quantity=\"660\" label=\"660\"/>\n",
    "    <ColorMapEntry color=\"#a41fd6\" quantity=\"2000\" label=\"2000\"/>\n",
    "  </ColorMap>\n",
    "</RasterSymbolizer>\"\"\"\n",
    "\n",
    "# Add the final dNBR layer to the map\n",
    "Map.addLayer(dNBR_scaled, dNBR_vis, 'Final dNBR Scaled')\n",
    "\n",
    "# Add the classified dNBR layer using the SLD style\n",
    "Map.addLayer(dNBR_scaled.sldStyle(sld_intervals), {}, 'dNBR Classified')\n",
    "\n",
    "# Center the map on your area of interest\n",
    "Map.centerObject(brunei_geometry, 8)\n",
    "\n",
    "# Display the map in the notebook\n",
    "Map"
   ]
  },
  {
   "cell_type": "code",
   "execution_count": 52,
   "id": "48b93e85",
   "metadata": {},
   "outputs": [
    {
     "data": {
      "text/html": [
       "\n",
       "            <style>\n",
       "                .geemap-dark {\n",
       "                    --jp-widgets-color: white;\n",
       "                    --jp-widgets-label-color: white;\n",
       "                    --jp-ui-font-color1: white;\n",
       "                    --jp-layout-color2: #454545;\n",
       "                    background-color: #383838;\n",
       "                }\n",
       "\n",
       "                .geemap-dark .jupyter-button {\n",
       "                    --jp-layout-color3: #383838;\n",
       "                }\n",
       "\n",
       "                .geemap-colab {\n",
       "                    background-color: var(--colab-primary-surface-color, white);\n",
       "                }\n",
       "\n",
       "                .geemap-colab .jupyter-button {\n",
       "                    --jp-layout-color3: var(--colab-primary-surface-color, white);\n",
       "                }\n",
       "            </style>\n",
       "            "
      ],
      "text/plain": [
       "<IPython.core.display.HTML object>"
      ]
     },
     "metadata": {},
     "output_type": "display_data"
    },
    {
     "name": "stdout",
     "output_type": "stream",
     "text": [
      "Export task for dNBR_unscaledBrunei_2015_2016 started: AWA7EN3Z43OMOVYYPQBEL7VJ\n",
      "Export task for dNBR_scaled_2015_2016 started: O7QJ6QYXC4RKTXJP4BV3F4W4\n",
      "Export task for dNBR_unscaledBrunei_2016_2017 started: UQ5V2NFC6M4VCOE74PW7JIJW\n",
      "Export task for dNBR_scaled_2016_2017 started: PPKTRQ6VULET6QIU3ZS7UO5V\n",
      "Export task for dNBR_unscaledBrunei_2017_2018 started: DVNPELRQMIETEN4CJOJB4QWW\n",
      "Export task for dNBR_scaled_2017_2018 started: WDJLIGRPCLLJ5EDCCS7545L4\n",
      "Export task for dNBR_unscaledBrunei_2018_2019 started: R4HXFK7YRK6IIIZNG23YNPGK\n",
      "Export task for dNBR_scaled_2018_2019 started: RGYFVERXML54U5WB7AHIO67G\n",
      "Export task for dNBR_unscaledBrunei_2019_2020 started: ZOSEURX4BSAKIVQ2H7BPFF3I\n",
      "Export task for dNBR_scaled_2019_2020 started: YXMKLGWQPMNLOASTHIN7BNMW\n",
      "Export task for dNBR_unscaledBrunei_2020_2021 started: W4G2OJJ4IHX3G33OLJVIHQT3\n",
      "Export task for dNBR_scaled_2020_2021 started: HIICKF5MHAKV4AOJQTMDKY4H\n",
      "Export task for dNBR_unscaledBrunei_2021_2022 started: LG4Z237QLFOJV7H6US5HDTCR\n",
      "Export task for dNBR_scaled_2021_2022 started: QYBNZ6YTUGB6TKV6PXK5QQNE\n",
      "Export task for dNBR_unscaledBrunei_2022_2023 started: 5Z47GM53LIT3ETRAYXH7P4CU\n",
      "Export task for dNBR_scaled_2022_2023 started: QRI2NQBFV54VIE3N5YDFF5RW\n",
      "Export task for dNBR_unscaledBrunei_2023_2024 started: EERZGDSRJ3VB4RKZAC2ATS2W\n",
      "Export task for dNBR_scaled_2023_2024 started: NHC4LDU6ZFE44XUIEPVFMKY7\n",
      "All dNBR tasks have been submitted.\n"
     ]
    }
   ],
   "source": [
    "# Export images to Drive\n",
    "for year in range(start_year_range, end_year_range):    \n",
    "    description_unscaled = f'dNBR_unscaledBrunei_{year}_{year+1}'\n",
    "    task_unscaled = ee.batch.Export.image.toDrive(\n",
    "        image=dNBR_unscaled,\n",
    "        description=description_unscaled,\n",
    "        folder='dNBR_unscaled',\n",
    "        maxPixels=1e13,\n",
    "        region=brunei_geometry,\n",
    "        scale=30\n",
    "    )\n",
    "    task_unscaled.start()\n",
    "    print(f\"Export task for {description_unscaled} started: {task_unscaled.id}\")\n",
    "\n",
    "    description_scaled = f'dNBR_scaled_{year}_{year+1}'\n",
    "    task_scaled = ee.batch.Export.image.toDrive(\n",
    "        image=dNBR_scaled,\n",
    "        description=description_scaled,\n",
    "        folder='dNBR_scaled',\n",
    "        maxPixels=1e13,\n",
    "        region=brunei_geometry,\n",
    "        scale=30\n",
    "    )\n",
    "    task_scaled.start()\n",
    "    print(f\"Export task for {description_scaled} started: {task_scaled.id}\")\n",
    "\n",
    "print(\"All dNBR tasks have been submitted.\")"
   ]
  }
 ],
 "metadata": {
  "kernelspec": {
   "display_name": "geoFRFast",
   "language": "python",
   "name": "python3"
  },
  "language_info": {
   "codemirror_mode": {
    "name": "ipython",
    "version": 3
   },
   "file_extension": ".py",
   "mimetype": "text/x-python",
   "name": "python",
   "nbconvert_exporter": "python",
   "pygments_lexer": "ipython3",
   "version": "3.12.9"
  }
 },
 "nbformat": 4,
 "nbformat_minor": 5
}
