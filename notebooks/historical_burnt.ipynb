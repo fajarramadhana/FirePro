{
 "cells": [
  {
   "cell_type": "code",
   "execution_count": 1,
   "id": "a68d4d1d",
   "metadata": {},
   "outputs": [],
   "source": [
    "#import libraries\n",
    "import geopandas as gpd\n",
    "import ee\n",
    "import geemap\n",
    "import numpy as np\n",
    "import matplotlib\n",
    "import pandas as pd\n",
    "import matplotlib.pyplot as plt\n"
   ]
  },
  {
   "cell_type": "code",
   "execution_count": 3,
   "id": "3fb56383",
   "metadata": {},
   "outputs": [
    {
     "data": {
      "text/html": [
       "\n",
       "            <style>\n",
       "                .geemap-dark {\n",
       "                    --jp-widgets-color: white;\n",
       "                    --jp-widgets-label-color: white;\n",
       "                    --jp-ui-font-color1: white;\n",
       "                    --jp-layout-color2: #454545;\n",
       "                    background-color: #383838;\n",
       "                }\n",
       "\n",
       "                .geemap-dark .jupyter-button {\n",
       "                    --jp-layout-color3: #383838;\n",
       "                }\n",
       "\n",
       "                .geemap-colab {\n",
       "                    background-color: var(--colab-primary-surface-color, white);\n",
       "                }\n",
       "\n",
       "                .geemap-colab .jupyter-button {\n",
       "                    --jp-layout-color3: var(--colab-primary-surface-color, white);\n",
       "                }\n",
       "            </style>\n",
       "            "
      ],
      "text/plain": [
       "<IPython.core.display.HTML object>"
      ]
     },
     "metadata": {},
     "output_type": "display_data"
    }
   ],
   "source": [
    "# Intialize Earth Engine\n",
    "ee.Authenticate()\n",
    "ee.Initialize(project=\"ee-fajarramadhana505\")"
   ]
  },
  {
   "cell_type": "code",
   "execution_count": 15,
   "id": "94c27bff",
   "metadata": {},
   "outputs": [
    {
     "data": {
      "text/html": [
       "\n",
       "            <style>\n",
       "                .geemap-dark {\n",
       "                    --jp-widgets-color: white;\n",
       "                    --jp-widgets-label-color: white;\n",
       "                    --jp-ui-font-color1: white;\n",
       "                    --jp-layout-color2: #454545;\n",
       "                    background-color: #383838;\n",
       "                }\n",
       "\n",
       "                .geemap-dark .jupyter-button {\n",
       "                    --jp-layout-color3: #383838;\n",
       "                }\n",
       "\n",
       "                .geemap-colab {\n",
       "                    background-color: var(--colab-primary-surface-color, white);\n",
       "                }\n",
       "\n",
       "                .geemap-colab .jupyter-button {\n",
       "                    --jp-layout-color3: var(--colab-primary-surface-color, white);\n",
       "                }\n",
       "            </style>\n",
       "            "
      ],
      "text/plain": [
       "<IPython.core.display.HTML object>"
      ]
     },
     "metadata": {},
     "output_type": "display_data"
    }
   ],
   "source": [
    "# -----------------------------------------------------------------------------\n",
    "# CELL 1: Area of Interest and Time Range Setup\n",
    "# -----------------------------------------------------------------------------\n",
    "# The JavaScript 'Brunei' object is not a standard Earth Engine geometry.\n",
    "# We'll create a placeholder for a sample region. You can replace this with\n",
    "# the actual geometry you intend to use. Here, we are creating a rectangle\n",
    "# around the approximate location of Brunei.\n",
    "brunei_coords = [114.0, 4.0, 115.5, 5.5]\n",
    "Brunei = ee.Geometry.Rectangle(brunei_coords)\n",
    "\n",
    "# Develop the Brunei point and buffer\n",
    "geom = ee.Geometry.Point(102.14, -0.26).buffer(10000)\n",
    "\n",
    "# Define the start and end years for the 10-year period\n",
    "start_year_range = 2015  # The first year of the dNBR calculation\n",
    "end_year_range = 2024    # The last year for the second image in the pair"
   ]
  },
  {
   "cell_type": "code",
   "execution_count": 16,
   "id": "0ec1c3b8",
   "metadata": {},
   "outputs": [
    {
     "data": {
      "text/html": [
       "\n",
       "            <style>\n",
       "                .geemap-dark {\n",
       "                    --jp-widgets-color: white;\n",
       "                    --jp-widgets-label-color: white;\n",
       "                    --jp-ui-font-color1: white;\n",
       "                    --jp-layout-color2: #454545;\n",
       "                    background-color: #383838;\n",
       "                }\n",
       "\n",
       "                .geemap-dark .jupyter-button {\n",
       "                    --jp-layout-color3: #383838;\n",
       "                }\n",
       "\n",
       "                .geemap-colab {\n",
       "                    background-color: var(--colab-primary-surface-color, white);\n",
       "                }\n",
       "\n",
       "                .geemap-colab .jupyter-button {\n",
       "                    --jp-layout-color3: var(--colab-primary-surface-color, white);\n",
       "                }\n",
       "            </style>\n",
       "            "
      ],
      "text/plain": [
       "<IPython.core.display.HTML object>"
      ]
     },
     "metadata": {},
     "output_type": "display_data"
    }
   ],
   "source": [
    "# -----------------------------------------------------------------------------\n",
    "# CELL 2: Data Collection and Cloud Masking Function\n",
    "# -----------------------------------------------------------------------------\n",
    "# Input Landsat collections\n",
    "l9sr = ee.ImageCollection('LANDSAT/LC09/C02/T1_L2')\n",
    "l8sr = ee.ImageCollection('LANDSAT/LC08/C02/T1_L2')\n",
    "l5sr = ee.ImageCollection('LANDSAT/LT05/C02/T1_L2')\n",
    "lsr = ee.ImageCollection(l9sr.merge(l8sr).merge(l5sr))\n",
    "\n",
    "# Function to cloud mask from the Fmask band of Landsat SR data\n",
    "def maskLsr(img):\n",
    "    qa = img.select('QA_PIXEL')\n",
    "    dilated = 1 << 1\n",
    "    cirrus = 1 << 2\n",
    "    cloud = 1 << 3\n",
    "    shadow = 1 << 4\n",
    "    \n",
    "    mask = qa.bitwiseAnd(dilated).eq(0) \\\n",
    "        .And(qa.bitwiseAnd(cirrus).eq(0)) \\\n",
    "        .And(qa.bitwiseAnd(cloud).eq(0)) \\\n",
    "        .And(qa.bitwiseAnd(shadow).eq(0))\n",
    "        \n",
    "    return img.updateMask(mask)"
   ]
  },
  {
   "cell_type": "code",
   "execution_count": 22,
   "id": "1074e2eb",
   "metadata": {},
   "outputs": [
    {
     "data": {
      "text/html": [
       "\n",
       "            <style>\n",
       "                .geemap-dark {\n",
       "                    --jp-widgets-color: white;\n",
       "                    --jp-widgets-label-color: white;\n",
       "                    --jp-ui-font-color1: white;\n",
       "                    --jp-layout-color2: #454545;\n",
       "                    background-color: #383838;\n",
       "                }\n",
       "\n",
       "                .geemap-dark .jupyter-button {\n",
       "                    --jp-layout-color3: #383838;\n",
       "                }\n",
       "\n",
       "                .geemap-colab {\n",
       "                    background-color: var(--colab-primary-surface-color, white);\n",
       "                }\n",
       "\n",
       "                .geemap-colab .jupyter-button {\n",
       "                    --jp-layout-color3: var(--colab-primary-surface-color, white);\n",
       "                }\n",
       "            </style>\n",
       "            "
      ],
      "text/plain": [
       "<IPython.core.display.HTML object>"
      ]
     },
     "metadata": {},
     "output_type": "display_data"
    },
    {
     "name": "stdout",
     "output_type": "stream",
     "text": [
      "Processing dNBR for years 2015 and 2016...\n",
      "Processing dNBR for years 2016 and 2017...\n",
      "Processing dNBR for years 2017 and 2018...\n",
      "Processing dNBR for years 2018 and 2019...\n",
      "Processing dNBR for years 2019 and 2020...\n",
      "Processing dNBR for years 2020 and 2021...\n",
      "Processing dNBR for years 2021 and 2022...\n",
      "Processing dNBR for years 2022 and 2023...\n",
      "Processing dNBR for years 2023 and 2024...\n"
     ]
    }
   ],
   "source": [
    "# -----------------------------------------------------------------------------\n",
    "# CELL 3: Automated dNBR Calculation and Export Loop\n",
    "# -----------------------------------------------------------------------------\n",
    "# Loop through the years to calculate dNBR for each pair of consecutive years\n",
    "for year in range(start_year_range, end_year_range):\n",
    "    print(f\"Processing dNBR for years {year} and {year + 1}...\")\n",
    "\n",
    "    # Calculate composite for the first year (e.g., 2015)\n",
    "    startDate1 = ee.Date.fromYMD(year, 1, 1)\n",
    "    endDate1 = ee.Date.fromYMD(year + 1, 1, 1)\n",
    "    composite1 = lsr.filterDate(startDate1, endDate1) \\\n",
    "                    .map(maskLsr) \\\n",
    "                    .median() \\\n",
    "                    .multiply(0.0000275) \\\n",
    "                    .add(-0.2)\n",
    "    \n",
    "    # Calculate composite for the second year (e.g., 2016)\n",
    "    startDate2 = ee.Date.fromYMD(year + 1, 1, 1)\n",
    "    endDate2 = ee.Date.fromYMD(year + 2, 1, 1)\n",
    "    composite2 = lsr.filterDate(startDate2, endDate2) \\\n",
    "                    .map(maskLsr) \\\n",
    "                    .median() \\\n",
    "                    .multiply(0.0000275) \\\n",
    "                    .add(-0.2)\n",
    "    \n",
    "    # Calculate pre-fire and post-fire NBR for the year pair\n",
    "    BurntIndices1 = composite1.expression(\n",
    "        \"(NIR - SWIR2) / (NIR + SWIR2)\",\n",
    "        {\n",
    "            'SWIR2': composite1.select(\"SR_B7\"),\n",
    "            'NIR': composite1.select(\"SR_B5\"),\n",
    "        })\n",
    "\n",
    "    BurntIndices2 = composite2.expression(\n",
    "        \"(NIR - SWIR2) / (NIR + SWIR2)\",\n",
    "        {\n",
    "            'SWIR2': composite2.select(\"SR_B7\"),\n",
    "            'NIR': composite2.select(\"SR_B5\"),\n",
    "        })\n",
    "\n",
    "    # Calculate dNBR\n",
    "    dNBR_unscaled = BurntIndices1.subtract(BurntIndices2)\n",
    "    dNBR_scaled = dNBR_unscaled.multiply(1000).clip(Brunei)"
   ]
  },
  {
   "cell_type": "code",
   "execution_count": 25,
   "id": "48b93e85",
   "metadata": {},
   "outputs": [
    {
     "data": {
      "text/html": [
       "\n",
       "            <style>\n",
       "                .geemap-dark {\n",
       "                    --jp-widgets-color: white;\n",
       "                    --jp-widgets-label-color: white;\n",
       "                    --jp-ui-font-color1: white;\n",
       "                    --jp-layout-color2: #454545;\n",
       "                    background-color: #383838;\n",
       "                }\n",
       "\n",
       "                .geemap-dark .jupyter-button {\n",
       "                    --jp-layout-color3: #383838;\n",
       "                }\n",
       "\n",
       "                .geemap-colab {\n",
       "                    background-color: var(--colab-primary-surface-color, white);\n",
       "                }\n",
       "\n",
       "                .geemap-colab .jupyter-button {\n",
       "                    --jp-layout-color3: var(--colab-primary-surface-color, white);\n",
       "                }\n",
       "            </style>\n",
       "            "
      ],
      "text/plain": [
       "<IPython.core.display.HTML object>"
      ]
     },
     "metadata": {},
     "output_type": "display_data"
    },
    {
     "name": "stdout",
     "output_type": "stream",
     "text": [
      "Export task for dNBR_unscaledBrunei_2015_2016 started: TEP3XANNDD7URVSOQ34G266F\n",
      "Export task for dNBR_scaled_2015_2016 started: VPD26BQZCNMDCRLTQW337VWJ\n",
      "Export task for dNBR_unscaledBrunei_2016_2017 started: TX37DHQV6CU3T5KH727XJOKG\n",
      "Export task for dNBR_scaled_2016_2017 started: IKEIJLNIEGX3RRPR7J22WZR3\n",
      "Export task for dNBR_unscaledBrunei_2017_2018 started: QDBMPWF6GRMBAQJSRNFH5RDA\n",
      "Export task for dNBR_scaled_2017_2018 started: SMWA2D3EPSUYJFRC6OIVQIJ2\n",
      "Export task for dNBR_unscaledBrunei_2018_2019 started: OFJWLBQNG2ZHDIBT3TINRWL4\n",
      "Export task for dNBR_scaled_2018_2019 started: LVWL3SW5J6HOVHNUHUD22PDK\n",
      "Export task for dNBR_unscaledBrunei_2019_2020 started: FT6XRNQXT3KNGIGYWHPDWM3A\n",
      "Export task for dNBR_scaled_2019_2020 started: RUI2AEURZDPAI6KBBCAVN26Z\n",
      "Export task for dNBR_unscaledBrunei_2020_2021 started: RDLPP2OI7C7WIJ5N276MGE35\n",
      "Export task for dNBR_scaled_2020_2021 started: SFIYVVDC7JDO3JRUOPXOH57W\n",
      "Export task for dNBR_unscaledBrunei_2021_2022 started: AM34XQ7JQFRU2YINTTBTCPV3\n",
      "Export task for dNBR_scaled_2021_2022 started: W63LKM73BSXBIGR7QE5AO3S2\n",
      "Export task for dNBR_unscaledBrunei_2022_2023 started: PJASGZGD57RYWFW3LWURWXCL\n",
      "Export task for dNBR_scaled_2022_2023 started: LD3Q7GIDOFLOH52WS3SUB435\n",
      "Export task for dNBR_unscaledBrunei_2023_2024 started: ATOG4UCARUW3WPYYVK6VAO5A\n",
      "Export task for dNBR_scaled_2023_2024 started: CQIF7P5GOVINZTGYHPC45G76\n",
      "All dNBR tasks have been submitted.\n"
     ]
    }
   ],
   "source": [
    "# Export images to Drive\n",
    "for year in range(start_year_range, end_year_range):    \n",
    "    description_unscaled = f'dNBR_unscaledBrunei_{year}_{year+1}'\n",
    "    task_unscaled = ee.batch.Export.image.toDrive(\n",
    "        image=dNBR_unscaled,\n",
    "        description=description_unscaled,\n",
    "        folder='dNBR_unscaled',\n",
    "        maxPixels=1e13,\n",
    "        region=Brunei.getInfo()['coordinates'],\n",
    "        scale=30\n",
    "    )\n",
    "    task_unscaled.start()\n",
    "    print(f\"Export task for {description_unscaled} started: {task_unscaled.id}\")\n",
    "\n",
    "    description_scaled = f'dNBR_scaled_{year}_{year+1}'\n",
    "    task_scaled = ee.batch.Export.image.toDrive(\n",
    "        image=dNBR_scaled,\n",
    "        description=description_scaled,\n",
    "        folder='dNBR_scaled',\n",
    "        maxPixels=1e13,\n",
    "        region=Brunei.getInfo()['coordinates'],\n",
    "        scale=30\n",
    "    )\n",
    "    task_scaled.start()\n",
    "    print(f\"Export task for {description_scaled} started: {task_scaled.id}\")\n",
    "\n",
    "print(\"All dNBR tasks have been submitted.\")"
   ]
  }
 ],
 "metadata": {
  "kernelspec": {
   "display_name": "geoFRFast",
   "language": "python",
   "name": "python3"
  },
  "language_info": {
   "codemirror_mode": {
    "name": "ipython",
    "version": 3
   },
   "file_extension": ".py",
   "mimetype": "text/x-python",
   "name": "python",
   "nbconvert_exporter": "python",
   "pygments_lexer": "ipython3",
   "version": "3.12.9"
  }
 },
 "nbformat": 4,
 "nbformat_minor": 5
}
